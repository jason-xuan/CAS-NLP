{
 "cells": [
  {
   "cell_type": "code",
   "execution_count": 1,
   "metadata": {
    "collapsed": true
   },
   "outputs": [],
   "source": [
    "from sklearn.decomposition  import LatentDirichletAllocation \n",
    "from sklearn.feature_extraction.text import TfidfVectorizer, CountVectorizer\n",
    "from doc_pb2 import Document\n",
    "from tqdm import tqdm\n",
    "from pprint import pprint\n",
    "from functools import reduce\n",
    "import pickle\n",
    "import jieba\n",
    "import lmdb\n",
    "import os"
   ]
  },
  {
   "cell_type": "code",
   "execution_count": 2,
   "metadata": {
    "collapsed": true
   },
   "outputs": [],
   "source": [
    "def chunk_reader(lmdb_path: str, chunk_size: int):\n",
    "    \"\"\"\n",
    "    chunk_size the size of each chunk it yield, set to -1 to get all docs\n",
    "    \"\"\"\n",
    "    db = lmdb.open(lmdb_path)\n",
    "    with db.begin() as cur:\n",
    "        docs = []\n",
    "        for k, v in cur.cursor():\n",
    "            doc = Document()\n",
    "            doc.ParseFromString(v)\n",
    "            docs.append(doc)\n",
    "            if len(docs) == chunk_size:\n",
    "                yield docs\n",
    "                docs = []\n",
    "    db.close()\n",
    "    return docs\n",
    "\n",
    "def read_all_texts(lmdb_path: str, l):\n",
    "    db = lmdb.open(lmdb_path)\n",
    "    with db.begin() as cur:\n",
    "        docs = []\n",
    "        for k, v in cur.cursor():\n",
    "            doc = Document()\n",
    "            doc.ParseFromString(v)\n",
    "            docs.append(doc.title + doc.content)\n",
    "            del doc\n",
    "            if len(docs) ==l:\n",
    "                break\n",
    "    db.close()\n",
    "    return docs"
   ]
  },
  {
   "cell_type": "code",
   "execution_count": 6,
   "metadata": {},
   "outputs": [
    {
     "name": "stdout",
     "output_type": "stream",
     "text": [
      "Wall time: 17.5 ms\n"
     ]
    }
   ],
   "source": [
    "%%time\n",
    "# load stopwords\n",
    "stopwords_dir_path = r'C:\\Users\\zjxua\\GitHub\\CAS-NLP\\data\\stopwords'\n",
    "stopwords_filelist = [os.path.join(stopwords_dir_path, p) for p in os.listdir(stopwords_dir_path)]\n",
    "stopwords = list(reduce(lambda x, y: x + y, [open(p).read().split('\\n') for p in stopwords_filelist]))"
   ]
  },
  {
   "cell_type": "code",
   "execution_count": 8,
   "metadata": {},
   "outputs": [
    {
     "name": "stdout",
     "output_type": "stream",
     "text": [
      "Wall time: 1min 6s\n"
     ]
    }
   ],
   "source": [
    "%%time\n",
    "all_texts = read_all_texts('../../data/news data/documents')"
   ]
  },
  {
   "cell_type": "code",
   "execution_count": 9,
   "metadata": {},
   "outputs": [
    {
     "name": "stderr",
     "output_type": "stream",
     "text": [
      "Building prefix dict from the default dictionary ...\n",
      "Loading model from cache C:\\Users\\zjxua\\AppData\\Local\\Temp\\jieba.cache\n",
      "Loading model cost 0.774 seconds.\n",
      "Prefix dict has been built succesfully.\n"
     ]
    },
    {
     "name": "stdout",
     "output_type": "stream",
     "text": [
      "Wall time: 53min\n"
     ]
    }
   ],
   "source": [
    "%%time\n",
    "# features\n",
    "tf_vectorizer = CountVectorizer(tokenizer=lambda text: jieba.lcut(text), max_df=0.9, min_df=20, stop_words=stopwords)\n",
    "    \n",
    "tf_matrix = tf_vectorizer.fit_transform(all_texts)\n",
    "tf_matrix.shape"
   ]
  },
  {
   "cell_type": "code",
   "execution_count": 18,
   "metadata": {
    "collapsed": true
   },
   "outputs": [],
   "source": [
    "with open('tf_matrix.pickle', 'wb') as f:\n",
    "    pickle.dump(file=f, obj=tf_matrix)"
   ]
  },
  {
   "cell_type": "code",
   "execution_count": 2,
   "metadata": {
    "collapsed": true
   },
   "outputs": [],
   "source": [
    "with open('tf_matrix.pickle', 'rb') as f:\n",
    "    tf_matrix = pickle.load(file=f)"
   ]
  },
  {
   "cell_type": "code",
   "execution_count": 3,
   "metadata": {},
   "outputs": [
    {
     "data": {
      "text/plain": [
       "<1133280x180968 sparse matrix of type '<class 'numpy.int64'>'\n",
       "\twith 136364813 stored elements in Compressed Sparse Row format>"
      ]
     },
     "execution_count": 3,
     "metadata": {},
     "output_type": "execute_result"
    }
   ],
   "source": [
    "tf_matrix"
   ]
  },
  {
   "cell_type": "code",
   "execution_count": null,
   "metadata": {},
   "outputs": [],
   "source": [
    "%%time\n",
    "lda = LatentDirichletAllocation(n_topics=1000, max_iter=5,\n",
    "                                learning_method='online',\n",
    "                                learning_offset=50.,\n",
    "                                random_state=0)\n",
    "\n",
    "lda.fit(tf_matrix)"
   ]
  },
  {
   "cell_type": "code",
   "execution_count": null,
   "metadata": {
    "collapsed": true
   },
   "outputs": [],
   "source": [
    "docres = lda.transform(tf_matrix)"
   ]
  },
  {
   "cell_type": "code",
   "execution_count": null,
   "metadata": {
    "collapsed": true
   },
   "outputs": [],
   "source": [
    "with open('doc2verb.pickle', 'wb') as f:\n",
    "    pickle.dump(file=f, obj=(docres, lda.components_))"
   ]
  },
  {
   "cell_type": "code",
   "execution_count": null,
   "metadata": {
    "collapsed": true
   },
   "outputs": [],
   "source": [
    "\"hello?\""
   ]
  },
  {
   "cell_type": "code",
   "execution_count": 24,
   "metadata": {
    "collapsed": true
   },
   "outputs": [],
   "source": [
    "%%time\n",
    "tf_feature_names = tf_vectorizer.get_feature_names()\n",
    "\n",
    "print_top_words(lda, tf_feature_names, 10)"
   ]
  }
 ],
 "metadata": {
  "kernelspec": {
   "display_name": "Python 3",
   "language": "python",
   "name": "python3"
  },
  "language_info": {
   "codemirror_mode": {
    "name": "ipython",
    "version": 3
   },
   "file_extension": ".py",
   "mimetype": "text/x-python",
   "name": "python",
   "nbconvert_exporter": "python",
   "pygments_lexer": "ipython3",
   "version": "3.6.2"
  },
  "toc": {
   "colors": {
    "hover_highlight": "#DAA520",
    "navigate_num": "#000000",
    "navigate_text": "#333333",
    "running_highlight": "#FF0000",
    "selected_highlight": "#FFD700",
    "sidebar_border": "#EEEEEE",
    "wrapper_background": "#FFFFFF"
   },
   "moveMenuLeft": true,
   "nav_menu": {
    "height": "12px",
    "width": "252px"
   },
   "navigate_menu": true,
   "number_sections": true,
   "sideBar": true,
   "threshold": 4,
   "toc_cell": false,
   "toc_section_display": "block",
   "toc_window_display": false,
   "widenNotebook": false
  }
 },
 "nbformat": 4,
 "nbformat_minor": 2
}
