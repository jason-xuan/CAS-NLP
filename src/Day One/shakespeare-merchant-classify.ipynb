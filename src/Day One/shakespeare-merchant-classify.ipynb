{
 "cells": [
  {
   "cell_type": "code",
   "execution_count": 2,
   "metadata": {
    "collapsed": true
   },
   "outputs": [],
   "source": [
    "import os\n",
    "import numpy as np\n",
    "from pprint import pprint\n",
    "from bs4 import BeautifulSoup\n",
    "\n",
    "shakespeare_path = r'.\\data\\shakespeare-merchant.trec'"
   ]
  },
  {
   "cell_type": "code",
   "execution_count": 16,
   "metadata": {},
   "outputs": [],
   "source": [
    "with open(os.path.join(shakespeare_path, 'shakespeare-merchant.trec.1')) as f:\n",
    "    xml1 = f.read()\n",
    "\n",
    "with open(os.path.join(shakespeare_path, 'shakespeare-merchant.trec.2')) as f:\n",
    "    xml2 = f.read()\n",
    "\n",
    "soup1 = BeautifulSoup(xml1, \"lxml\")\n",
    "soup2 = BeautifulSoup(xml2, \"lxml\")\n",
    "\n",
    "speakers = soup1.find_all('speaker') + soup2.find_all('speaker')"
   ]
  },
  {
   "cell_type": "code",
   "execution_count": 14,
   "metadata": {},
   "outputs": [],
   "source": [
    "class Sentence(object):\n",
    "    def __init__(self, node):\n",
    "        self.speaker = node.string\n",
    "        self.context = node.next_sibling\n",
    "        \n",
    "    def __str__(self) -> str:\n",
    "        context = self.context.replace('\\n', ' ').replace('\\t', ' ')\n",
    "        return '<speaker :\\t{0}, \\tcontext :\\t{1}>'.format(self.speaker, context)\n",
    "\n",
    "    def __repr__(self) -> str:\n",
    "        return self.__str__()"
   ]
  },
  {
   "cell_type": "code",
   "execution_count": 18,
   "metadata": {
    "collapsed": true
   },
   "outputs": [],
   "source": [
    "# speakers = [Sentence(s) for s in speakers]\n",
    "pprint([Sentence(s) for s in speakers])"
   ]
  },
  {
   "cell_type": "code",
   "execution_count": 20,
   "metadata": {},
   "outputs": [],
   "source": [
    "[Sentence(s) for s in speakers]"
   ]
  }
 ],
 "metadata": {
  "kernelspec": {
   "display_name": "Python 2",
   "language": "python",
   "name": "python2"
  },
  "language_info": {
   "codemirror_mode": {
    "name": "ipython",
    "version": 2
   },
   "file_extension": ".py",
   "mimetype": "text/x-python",
   "name": "python",
   "nbconvert_exporter": "python",
   "pygments_lexer": "ipython2",
   "version": "2.7.6"
  }
 },
 "nbformat": 4,
 "nbformat_minor": 0
}
