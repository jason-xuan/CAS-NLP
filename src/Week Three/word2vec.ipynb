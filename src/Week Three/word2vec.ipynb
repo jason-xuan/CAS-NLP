{
 "cells": [
  {
   "cell_type": "code",
   "execution_count": 21,
   "metadata": {
    "collapsed": true
   },
   "outputs": [],
   "source": [
    "import jieba\n",
    "import gensim\n",
    "import logging\n",
    "import os\n",
    "from pprint import pprint\n",
    "\n",
    "\n",
    "logging.basicConfig(\n",
    "    format='%(asctime)s : %(levelname)s : %(message)s',\n",
    "    level=logging.INFO\n",
    ")"
   ]
  },
  {
   "cell_type": "code",
   "execution_count": 35,
   "metadata": {},
   "outputs": [],
   "source": [
    "with open(r'./data/videotitle') as f:\n",
    "    video_titles = f.read().split('\\n')\n",
    "\n",
    "# load stop words\n",
    "stopwords_p = r'.\\data\\stopwords'\n",
    "files = [os.path.join(stopwords_p, p) for p in os.listdir(stopwords_p)]\n",
    "stopwords = set()\n",
    "for file in files:\n",
    "    with open(file, 'r', ) as f:\n",
    "        stopwords = stopwords | set(f.read().split('\\n'))\n",
    "\n",
    "stopwords.add('\\n')"
   ]
  },
  {
   "cell_type": "code",
   "execution_count": 37,
   "metadata": {},
   "outputs": [],
   "source": [
    "words = [w for w in jieba.cut('\\n'.join(video_titles)) if w not in stopwords]"
   ]
  },
  {
   "cell_type": "code",
   "execution_count": 51,
   "metadata": {},
   "outputs": [],
   "source": [
    ""
   ]
  }
 ],
 "metadata": {
  "kernelspec": {
   "display_name": "Python 2",
   "language": "python",
   "name": "python2"
  },
  "language_info": {
   "codemirror_mode": {
    "name": "ipython",
    "version": 2
   },
   "file_extension": ".py",
   "mimetype": "text/x-python",
   "name": "python",
   "nbconvert_exporter": "python",
   "pygments_lexer": "ipython2",
   "version": "2.7.6"
  }
 },
 "nbformat": 4,
 "nbformat_minor": 0
}
